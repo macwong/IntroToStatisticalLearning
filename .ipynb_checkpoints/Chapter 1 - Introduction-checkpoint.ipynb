{
 "cells": [
  {
   "cell_type": "markdown",
   "metadata": {},
   "source": [
    "# Chapter 1 - Introduction"
   ]
  },
  {
   "cell_type": "markdown",
   "metadata": {},
   "source": [
    "## Notation"
   ]
  },
  {
   "cell_type": "markdown",
   "metadata": {},
   "source": [
    "### Features and data points\n",
    "$n$ => Number of distinct points or observations\n",
    "\n",
    "$p$ => Variables / features\n",
    "\n",
    "For instance, wage data that contains 12 variables and 3000 people\n",
    "\n",
    "$n = 3000$\n",
    "\n",
    "$p = 12$"
   ]
  },
  {
   "cell_type": "markdown",
   "metadata": {},
   "source": [
    "### Matrix\n",
    "$x_{ij}$ is a value of the $i^{th}$ observation, and the $j^{th}$ feature\n",
    "\n",
    "where $i = \\{ 1, 2, 3, ..., n \\}$ and $j = \\{ 1, 2, 3, ..., p \\}$\n",
    "\n",
    "$i$ = index of observations\n",
    "\n",
    "$j$ = index of features\n",
    "\n",
    "$X = \\begin{bmatrix}\n",
    "x_{11} & x_{12} & \\cdots & x_{1p}\\\\\n",
    "x_{21} & x_{22} & \\cdots & x_{2p}\\\\\n",
    "\\vdots & \\vdots & \\ddots & \\vdots\\\\\n",
    "x_{n1} & x_{n2} & \\cdots & x_{np}\n",
    "\\end{bmatrix}$"
   ]
  },
  {
   "cell_type": "markdown",
   "metadata": {},
   "source": []
  },
  {
   "cell_type": "code",
   "execution_count": null,
   "metadata": {},
   "outputs": [],
   "source": []
  }
 ],
 "metadata": {
  "kernelspec": {
   "display_name": "Python 3",
   "language": "python",
   "name": "python3"
  },
  "language_info": {
   "codemirror_mode": {
    "name": "ipython",
    "version": 3
   },
   "file_extension": ".py",
   "mimetype": "text/x-python",
   "name": "python",
   "nbconvert_exporter": "python",
   "pygments_lexer": "ipython3",
   "version": "3.6.5"
  }
 },
 "nbformat": 4,
 "nbformat_minor": 2
}
