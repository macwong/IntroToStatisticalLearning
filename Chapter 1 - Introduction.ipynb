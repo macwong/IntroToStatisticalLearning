{
 "cells": [
  {
   "cell_type": "markdown",
   "metadata": {},
   "source": [
    "# Chapter 1 - Introduction"
   ]
  },
  {
   "cell_type": "markdown",
   "metadata": {},
   "source": [
    "## Notation"
   ]
  },
  {
   "cell_type": "markdown",
   "metadata": {},
   "source": [
    "### Features and data points\n",
    "$n$ => Number of distinct points or observations\n",
    "\n",
    "$p$ => Variables / features\n",
    "\n",
    "For instance, wage data that contains 12 variables and 3000 people\n",
    "\n",
    "$n = 3000$\n",
    "\n",
    "$p = 12$"
   ]
  },
  {
   "cell_type": "markdown",
   "metadata": {},
   "source": [
    "### Matrix\n",
    "$x_{ij}$ is a value of the $i^{th}$ observation, and the $j^{th}$ feature\n",
    "\n",
    "where $i = \\{ 1, 2, 3, ..., n \\}$ and $j = \\{ 1, 2, 3, ..., p \\}$\n",
    "\n",
    "$i$ = index of observations\n",
    "\n",
    "$j$ = index of features\n",
    "\n",
    "$X = \\begin{bmatrix}\n",
    "x_{11} & x_{12} & \\cdots & x_{1p}\\\\\n",
    "x_{21} & x_{22} & \\cdots & x_{2p}\\\\\n",
    "\\vdots & \\vdots & \\ddots & \\vdots\\\\\n",
    "x_{n1} & x_{n2} & \\cdots & x_{np}\n",
    "\\end{bmatrix}$"
   ]
  },
  {
   "cell_type": "markdown",
   "metadata": {},
   "source": [
    "### Vectors\n",
    "\n",
    "Vector of all features for the given ($i^{th}$) observation:\n",
    "\n",
    "$x_i = \\begin{bmatrix}\n",
    "x_{i1}\\\\\n",
    "x_{i2}\\\\\n",
    "\\vdots\\\\\n",
    "x_{ip}\n",
    "\\end{bmatrix}$\n",
    "\n",
    "Vector of all observations for the given ($j^{th}$) feature:\n",
    "\n",
    "$x_i = \\begin{bmatrix}\n",
    "x_{1j}\\\\\n",
    "x_{2j}\\\\\n",
    "\\vdots\\\\\n",
    "x_{nj}\n",
    "\\end{bmatrix}$"
   ]
  },
  {
   "cell_type": "markdown",
   "metadata": {},
   "source": [
    "### Transpose Matrix\n",
    "\n",
    "Rows to columns, and columns to rows, e.g.:\n",
    "\n",
    "$X^T = \\begin{bmatrix}\n",
    "x_{11} & x_{21} & \\cdots & x_{n1}\\\\\n",
    "x_{12} & x_{22} & \\cdots & x_{n2}\\\\\n",
    "\\vdots & \\vdots & \\ddots & \\vdots\\\\\n",
    "x_{1p} & x_{2p} & \\cdots & x_{np}\n",
    "\\end{bmatrix}$"
   ]
  },
  {
   "cell_type": "markdown",
   "metadata": {},
   "source": [
    "### Member of...\n",
    "\n",
    "Value is a scalar (is member of the real number range):\n",
    "\n",
    "$a \\in \\mathbb{R}$\n",
    "\n",
    "Value is a vector of length k:\n",
    "\n",
    "$a \\in \\mathbb{R}^k$\n",
    "\n",
    "Value is a matrix of r and s:\n",
    "\n",
    "$A \\in \\mathbb{R}^{r\\hspace{1mm}\\times\\hspace{1mm}s}$"
   ]
  },
  {
   "cell_type": "markdown",
   "metadata": {},
   "source": [
    "### Matrix Multiplication\n",
    "If...\n",
    "\n",
    "$A \\in \\mathbb{R}^{r\\hspace{1mm}\\times\\hspace{1mm}d}$\n",
    "\n",
    "And...\n",
    "\n",
    "$B \\in \\mathbb{R}^{d\\hspace{1mm}\\times\\hspace{1mm}s}$\n",
    "\n",
    "(notice that A columns is the same as B rows)\n",
    "\n",
    "The product of A and B is: $AB$\n",
    "\n",
    "$(AB)_{ij} = \\sum\\limits_{k = 1}^{d}a_{ik}k_{kj}$\n",
    "\n",
    "$A = \\begin{bmatrix}\n",
    "1 & 2\\\\\n",
    "3 & 4\n",
    "\\end{bmatrix}$ \n",
    "and \n",
    "$B = \\begin{bmatrix}\n",
    "5 & 6\\\\\n",
    "7 & 8\n",
    "\\end{bmatrix}$\n",
    "\n",
    "Then\n",
    "\n",
    "$\\begin{bmatrix}\n",
    "1 & 2\\\\\n",
    "3 & 4\n",
    "\\end{bmatrix}\n",
    "\\begin{bmatrix}\n",
    "5 & 6\\\\\n",
    "7 & 8\n",
    "\\end{bmatrix}\n",
    "=$\n",
    "$\\begin{bmatrix}\n",
    "1 \\times 5 + 2 \\times 7 & 1 \\times 6 + 2 \\times 8\\\\\n",
    "3 \\times 5 + 4 \\times 7 & 3 \\times 6 + 4 \\times 8\n",
    "\\end{bmatrix}\n",
    "=\n",
    "$\n",
    "$\\begin{bmatrix}\n",
    "19 & 22\\\\\n",
    "43 & 50\n",
    "\\end{bmatrix}$\n"
   ]
  },
  {
   "cell_type": "code",
   "execution_count": null,
   "metadata": {},
   "outputs": [],
   "source": []
  }
 ],
 "metadata": {
  "kernelspec": {
   "display_name": "Python 3",
   "language": "python",
   "name": "python3"
  },
  "language_info": {
   "codemirror_mode": {
    "name": "ipython",
    "version": 3
   },
   "file_extension": ".py",
   "mimetype": "text/x-python",
   "name": "python",
   "nbconvert_exporter": "python",
   "pygments_lexer": "ipython3",
   "version": "3.6.5"
  }
 },
 "nbformat": 4,
 "nbformat_minor": 2
}
